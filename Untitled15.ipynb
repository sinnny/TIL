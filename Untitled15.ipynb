{
  "nbformat": 4,
  "nbformat_minor": 0,
  "metadata": {
    "colab": {
      "name": "Untitled15.ipynb",
      "provenance": [],
      "mount_file_id": "19j_84esmnqo2l-aVXpeQ3OIn6z9YWgYk",
      "authorship_tag": "ABX9TyPvySjziIu9ecYsBQV/Erjf",
      "include_colab_link": true
    },
    "kernelspec": {
      "name": "python3",
      "display_name": "Python 3"
    },
    "language_info": {
      "name": "python"
    },
    "accelerator": "GPU"
  },
  "cells": [
    {
      "cell_type": "markdown",
      "metadata": {
        "id": "view-in-github",
        "colab_type": "text"
      },
      "source": [
        "<a href=\"https://colab.research.google.com/github/sinnny/TIL/blob/master/Untitled15.ipynb\" target=\"_parent\"><img src=\"https://colab.research.google.com/assets/colab-badge.svg\" alt=\"Open In Colab\"/></a>"
      ]
    },
    {
      "cell_type": "code",
      "execution_count": 1,
      "metadata": {
        "id": "web2-ieCi4VX"
      },
      "outputs": [],
      "source": [
        "import pandas as pd\n",
        "import numpy as np"
      ]
    },
    {
      "cell_type": "code",
      "source": [
        "data = pd.read_pickle('/content/drive/MyDrive/lyrics/melon.pkl')\n",
        "data"
      ],
      "metadata": {
        "colab": {
          "base_uri": "https://localhost:8080/",
          "height": 641
        },
        "id": "zWwZRmPkrUOp",
        "outputId": "ecb3ebc0-311a-40b0-80a1-7e0270dacbdf"
      },
      "execution_count": 2,
      "outputs": [
        {
          "output_type": "execute_result",
          "data": {
            "text/plain": [
              "       pages   rank                                              title  \\\n",
              "0          1      1                                             사랑인가 봐   \n",
              "1          1      2                                               취중고백   \n",
              "2          1      3                                             듣고 싶을까   \n",
              "3          1      4                                          사랑은 늘 도망가   \n",
              "4          1      5                                            언제나 사랑해   \n",
              "...      ...    ...                                                ...   \n",
              "94608  26101  26146                              음주운전 하지마 (하지마송part.1)   \n",
              "94609  26101  26147  All I Want for Christmas Is You (Feat. Edward ...   \n",
              "94610  26101  26148                                  Starlight (inst.)   \n",
              "94611  26101  26149                                        사막별 (inst.)   \n",
              "94612  26101  26150                                    힘내라 친구야 (Inst.)   \n",
              "\n",
              "                                                   lyric  \\\n",
              "0      너와 함께 하고 싶은 일들을\\n상상하는 게\\n요즘 내 일상이 되고\\n너의 즐거워하는...   \n",
              "1      뭐하고 있었니 늦었지만\\n잠시 나올래\\n너의 집 골목에 있는\\n놀이터에 앉아 있어\\...   \n",
              "2      우리 함께 듣던 그 노랠 듣고 싶을까\\n듣고 나서 잠시 날 생각은 할까\\n아주 혹시...   \n",
              "3      눈물이 난다 이 길을 걸으면\\n그 사람 손길이 자꾸 생각이 난다\\n붙잡지 못하고 가...   \n",
              "4      둘이 손잡고 걸을 때\\n마주 보며 또 웃을 때\\n사랑한다 말하지 않아도 알아\\n널 ...   \n",
              "...                                                  ...   \n",
              "94608  하지마 하지마 음주운전 하지마\\n하지마 하지마 음주운전 하지마\\n술먹고 운전했었어\\...   \n",
              "94609  Merry christmas\\n큰마음 먹고 널 위해 준비한 데이트\\n나 홀로 집에 ...   \n",
              "94610  저 떨어지는 별에 빌었어\\n지금 네 맘도 나와 똑같기를\\n잠든 밤이 지나고 네가 떠...   \n",
              "94611  소중한 무언가를 난 또 쫓고 있어\\n어떤 모양인지조차\\n생각해 볼 순간도 없고\\n너...   \n",
              "94612  마시자 잔을 들어 친구야\\n사느라고 고생이 많다\\n막힌 현실에 갇혀 살아도\\n잘 버...   \n",
              "\n",
              "                                artist      genres                 writer  \n",
              "0                                 멜로망스  발라드, 국내드라마             김민석 (멜로망스)  \n",
              "1                           김민석 (멜로망스)         발라드                    김희탐  \n",
              "2                        MSG워너비(M.O.M)         발라드                  Dr.JO  \n",
              "3                                  임영웅  발라드, 국내드라마                    강태규  \n",
              "4                          케이시 (Kassy)         발라드                    조영수  \n",
              "...                                ...         ...                    ...  \n",
              "94608                               강건          댄스                     강건  \n",
              "94609  커플다이어리, 아우라 (AOORA), $milli, 윤제    댄스, 인디음악            아우라 (AOORA)  \n",
              "94610                             ENOi          댄스                  JYMON  \n",
              "94611                             ENOi          댄스  페이퍼플래닛 (Paper Planet)  \n",
              "94612                        코드 (KOHD)          댄스                    유해준  \n",
              "\n",
              "[94613 rows x 7 columns]"
            ],
            "text/html": [
              "\n",
              "  <div id=\"df-17029680-3917-449f-95ff-a5c42704b54d\">\n",
              "    <div class=\"colab-df-container\">\n",
              "      <div>\n",
              "<style scoped>\n",
              "    .dataframe tbody tr th:only-of-type {\n",
              "        vertical-align: middle;\n",
              "    }\n",
              "\n",
              "    .dataframe tbody tr th {\n",
              "        vertical-align: top;\n",
              "    }\n",
              "\n",
              "    .dataframe thead th {\n",
              "        text-align: right;\n",
              "    }\n",
              "</style>\n",
              "<table border=\"1\" class=\"dataframe\">\n",
              "  <thead>\n",
              "    <tr style=\"text-align: right;\">\n",
              "      <th></th>\n",
              "      <th>pages</th>\n",
              "      <th>rank</th>\n",
              "      <th>title</th>\n",
              "      <th>lyric</th>\n",
              "      <th>artist</th>\n",
              "      <th>genres</th>\n",
              "      <th>writer</th>\n",
              "    </tr>\n",
              "  </thead>\n",
              "  <tbody>\n",
              "    <tr>\n",
              "      <th>0</th>\n",
              "      <td>1</td>\n",
              "      <td>1</td>\n",
              "      <td>사랑인가 봐</td>\n",
              "      <td>너와 함께 하고 싶은 일들을\\n상상하는 게\\n요즘 내 일상이 되고\\n너의 즐거워하는...</td>\n",
              "      <td>멜로망스</td>\n",
              "      <td>발라드, 국내드라마</td>\n",
              "      <td>김민석 (멜로망스)</td>\n",
              "    </tr>\n",
              "    <tr>\n",
              "      <th>1</th>\n",
              "      <td>1</td>\n",
              "      <td>2</td>\n",
              "      <td>취중고백</td>\n",
              "      <td>뭐하고 있었니 늦었지만\\n잠시 나올래\\n너의 집 골목에 있는\\n놀이터에 앉아 있어\\...</td>\n",
              "      <td>김민석 (멜로망스)</td>\n",
              "      <td>발라드</td>\n",
              "      <td>김희탐</td>\n",
              "    </tr>\n",
              "    <tr>\n",
              "      <th>2</th>\n",
              "      <td>1</td>\n",
              "      <td>3</td>\n",
              "      <td>듣고 싶을까</td>\n",
              "      <td>우리 함께 듣던 그 노랠 듣고 싶을까\\n듣고 나서 잠시 날 생각은 할까\\n아주 혹시...</td>\n",
              "      <td>MSG워너비(M.O.M)</td>\n",
              "      <td>발라드</td>\n",
              "      <td>Dr.JO</td>\n",
              "    </tr>\n",
              "    <tr>\n",
              "      <th>3</th>\n",
              "      <td>1</td>\n",
              "      <td>4</td>\n",
              "      <td>사랑은 늘 도망가</td>\n",
              "      <td>눈물이 난다 이 길을 걸으면\\n그 사람 손길이 자꾸 생각이 난다\\n붙잡지 못하고 가...</td>\n",
              "      <td>임영웅</td>\n",
              "      <td>발라드, 국내드라마</td>\n",
              "      <td>강태규</td>\n",
              "    </tr>\n",
              "    <tr>\n",
              "      <th>4</th>\n",
              "      <td>1</td>\n",
              "      <td>5</td>\n",
              "      <td>언제나 사랑해</td>\n",
              "      <td>둘이 손잡고 걸을 때\\n마주 보며 또 웃을 때\\n사랑한다 말하지 않아도 알아\\n널 ...</td>\n",
              "      <td>케이시 (Kassy)</td>\n",
              "      <td>발라드</td>\n",
              "      <td>조영수</td>\n",
              "    </tr>\n",
              "    <tr>\n",
              "      <th>...</th>\n",
              "      <td>...</td>\n",
              "      <td>...</td>\n",
              "      <td>...</td>\n",
              "      <td>...</td>\n",
              "      <td>...</td>\n",
              "      <td>...</td>\n",
              "      <td>...</td>\n",
              "    </tr>\n",
              "    <tr>\n",
              "      <th>94608</th>\n",
              "      <td>26101</td>\n",
              "      <td>26146</td>\n",
              "      <td>음주운전 하지마 (하지마송part.1)</td>\n",
              "      <td>하지마 하지마 음주운전 하지마\\n하지마 하지마 음주운전 하지마\\n술먹고 운전했었어\\...</td>\n",
              "      <td>강건</td>\n",
              "      <td>댄스</td>\n",
              "      <td>강건</td>\n",
              "    </tr>\n",
              "    <tr>\n",
              "      <th>94609</th>\n",
              "      <td>26101</td>\n",
              "      <td>26147</td>\n",
              "      <td>All I Want for Christmas Is You (Feat. Edward ...</td>\n",
              "      <td>Merry christmas\\n큰마음 먹고 널 위해 준비한 데이트\\n나 홀로 집에 ...</td>\n",
              "      <td>커플다이어리, 아우라 (AOORA), $milli, 윤제</td>\n",
              "      <td>댄스, 인디음악</td>\n",
              "      <td>아우라 (AOORA)</td>\n",
              "    </tr>\n",
              "    <tr>\n",
              "      <th>94610</th>\n",
              "      <td>26101</td>\n",
              "      <td>26148</td>\n",
              "      <td>Starlight (inst.)</td>\n",
              "      <td>저 떨어지는 별에 빌었어\\n지금 네 맘도 나와 똑같기를\\n잠든 밤이 지나고 네가 떠...</td>\n",
              "      <td>ENOi</td>\n",
              "      <td>댄스</td>\n",
              "      <td>JYMON</td>\n",
              "    </tr>\n",
              "    <tr>\n",
              "      <th>94611</th>\n",
              "      <td>26101</td>\n",
              "      <td>26149</td>\n",
              "      <td>사막별 (inst.)</td>\n",
              "      <td>소중한 무언가를 난 또 쫓고 있어\\n어떤 모양인지조차\\n생각해 볼 순간도 없고\\n너...</td>\n",
              "      <td>ENOi</td>\n",
              "      <td>댄스</td>\n",
              "      <td>페이퍼플래닛 (Paper Planet)</td>\n",
              "    </tr>\n",
              "    <tr>\n",
              "      <th>94612</th>\n",
              "      <td>26101</td>\n",
              "      <td>26150</td>\n",
              "      <td>힘내라 친구야 (Inst.)</td>\n",
              "      <td>마시자 잔을 들어 친구야\\n사느라고 고생이 많다\\n막힌 현실에 갇혀 살아도\\n잘 버...</td>\n",
              "      <td>코드 (KOHD)</td>\n",
              "      <td>댄스</td>\n",
              "      <td>유해준</td>\n",
              "    </tr>\n",
              "  </tbody>\n",
              "</table>\n",
              "<p>94613 rows × 7 columns</p>\n",
              "</div>\n",
              "      <button class=\"colab-df-convert\" onclick=\"convertToInteractive('df-17029680-3917-449f-95ff-a5c42704b54d')\"\n",
              "              title=\"Convert this dataframe to an interactive table.\"\n",
              "              style=\"display:none;\">\n",
              "        \n",
              "  <svg xmlns=\"http://www.w3.org/2000/svg\" height=\"24px\"viewBox=\"0 0 24 24\"\n",
              "       width=\"24px\">\n",
              "    <path d=\"M0 0h24v24H0V0z\" fill=\"none\"/>\n",
              "    <path d=\"M18.56 5.44l.94 2.06.94-2.06 2.06-.94-2.06-.94-.94-2.06-.94 2.06-2.06.94zm-11 1L8.5 8.5l.94-2.06 2.06-.94-2.06-.94L8.5 2.5l-.94 2.06-2.06.94zm10 10l.94 2.06.94-2.06 2.06-.94-2.06-.94-.94-2.06-.94 2.06-2.06.94z\"/><path d=\"M17.41 7.96l-1.37-1.37c-.4-.4-.92-.59-1.43-.59-.52 0-1.04.2-1.43.59L10.3 9.45l-7.72 7.72c-.78.78-.78 2.05 0 2.83L4 21.41c.39.39.9.59 1.41.59.51 0 1.02-.2 1.41-.59l7.78-7.78 2.81-2.81c.8-.78.8-2.07 0-2.86zM5.41 20L4 18.59l7.72-7.72 1.47 1.35L5.41 20z\"/>\n",
              "  </svg>\n",
              "      </button>\n",
              "      \n",
              "  <style>\n",
              "    .colab-df-container {\n",
              "      display:flex;\n",
              "      flex-wrap:wrap;\n",
              "      gap: 12px;\n",
              "    }\n",
              "\n",
              "    .colab-df-convert {\n",
              "      background-color: #E8F0FE;\n",
              "      border: none;\n",
              "      border-radius: 50%;\n",
              "      cursor: pointer;\n",
              "      display: none;\n",
              "      fill: #1967D2;\n",
              "      height: 32px;\n",
              "      padding: 0 0 0 0;\n",
              "      width: 32px;\n",
              "    }\n",
              "\n",
              "    .colab-df-convert:hover {\n",
              "      background-color: #E2EBFA;\n",
              "      box-shadow: 0px 1px 2px rgba(60, 64, 67, 0.3), 0px 1px 3px 1px rgba(60, 64, 67, 0.15);\n",
              "      fill: #174EA6;\n",
              "    }\n",
              "\n",
              "    [theme=dark] .colab-df-convert {\n",
              "      background-color: #3B4455;\n",
              "      fill: #D2E3FC;\n",
              "    }\n",
              "\n",
              "    [theme=dark] .colab-df-convert:hover {\n",
              "      background-color: #434B5C;\n",
              "      box-shadow: 0px 1px 3px 1px rgba(0, 0, 0, 0.15);\n",
              "      filter: drop-shadow(0px 1px 2px rgba(0, 0, 0, 0.3));\n",
              "      fill: #FFFFFF;\n",
              "    }\n",
              "  </style>\n",
              "\n",
              "      <script>\n",
              "        const buttonEl =\n",
              "          document.querySelector('#df-17029680-3917-449f-95ff-a5c42704b54d button.colab-df-convert');\n",
              "        buttonEl.style.display =\n",
              "          google.colab.kernel.accessAllowed ? 'block' : 'none';\n",
              "\n",
              "        async function convertToInteractive(key) {\n",
              "          const element = document.querySelector('#df-17029680-3917-449f-95ff-a5c42704b54d');\n",
              "          const dataTable =\n",
              "            await google.colab.kernel.invokeFunction('convertToInteractive',\n",
              "                                                     [key], {});\n",
              "          if (!dataTable) return;\n",
              "\n",
              "          const docLinkHtml = 'Like what you see? Visit the ' +\n",
              "            '<a target=\"_blank\" href=https://colab.research.google.com/notebooks/data_table.ipynb>data table notebook</a>'\n",
              "            + ' to learn more about interactive tables.';\n",
              "          element.innerHTML = '';\n",
              "          dataTable['output_type'] = 'display_data';\n",
              "          await google.colab.output.renderOutput(dataTable, element);\n",
              "          const docLink = document.createElement('div');\n",
              "          docLink.innerHTML = docLinkHtml;\n",
              "          element.appendChild(docLink);\n",
              "        }\n",
              "      </script>\n",
              "    </div>\n",
              "  </div>\n",
              "  "
            ]
          },
          "metadata": {},
          "execution_count": 2
        }
      ]
    },
    {
      "cell_type": "code",
      "source": [
        "git pull origin master\n",
        "bash preprocess.sh dump-tokenized\n"
      ],
      "metadata": {
        "colab": {
          "base_uri": "https://localhost:8080/",
          "height": 131
        },
        "id": "9VH_qscprUXc",
        "outputId": "0b26f1bc-781f-4bac-915a-8fbe4c901c5d"
      },
      "execution_count": 3,
      "outputs": [
        {
          "output_type": "error",
          "ename": "SyntaxError",
          "evalue": "ignored",
          "traceback": [
            "\u001b[0;36m  File \u001b[0;32m\"<ipython-input-3-524f8b03dfe7>\"\u001b[0;36m, line \u001b[0;32m1\u001b[0m\n\u001b[0;31m    git pull origin master\u001b[0m\n\u001b[0m           ^\u001b[0m\n\u001b[0;31mSyntaxError\u001b[0m\u001b[0;31m:\u001b[0m invalid syntax\n"
          ]
        }
      ]
    },
    {
      "cell_type": "code",
      "source": [
        "!pip install konlpy"
      ],
      "metadata": {
        "colab": {
          "base_uri": "https://localhost:8080/"
        },
        "id": "9Q3Iaejh0VLh",
        "outputId": "1ae6cc74-a808-49c5-ac00-9f29a8ed504d"
      },
      "execution_count": 4,
      "outputs": [
        {
          "output_type": "stream",
          "name": "stdout",
          "text": [
            "Collecting konlpy\n",
            "  Downloading konlpy-0.6.0-py2.py3-none-any.whl (19.4 MB)\n",
            "\u001b[K     |████████████████████████████████| 19.4 MB 1.2 MB/s \n",
            "\u001b[?25hRequirement already satisfied: numpy>=1.6 in /usr/local/lib/python3.7/dist-packages (from konlpy) (1.21.5)\n",
            "Collecting JPype1>=0.7.0\n",
            "  Downloading JPype1-1.3.0-cp37-cp37m-manylinux_2_5_x86_64.manylinux1_x86_64.whl (448 kB)\n",
            "\u001b[K     |████████████████████████████████| 448 kB 45.2 MB/s \n",
            "\u001b[?25hRequirement already satisfied: lxml>=4.1.0 in /usr/local/lib/python3.7/dist-packages (from konlpy) (4.2.6)\n",
            "Requirement already satisfied: typing-extensions in /usr/local/lib/python3.7/dist-packages (from JPype1>=0.7.0->konlpy) (3.10.0.2)\n",
            "Installing collected packages: JPype1, konlpy\n",
            "Successfully installed JPype1-1.3.0 konlpy-0.6.0\n"
          ]
        }
      ]
    },
    {
      "cell_type": "code",
      "source": [
        ""
      ],
      "metadata": {
        "id": "nA-JcsCCrUbZ"
      },
      "execution_count": null,
      "outputs": []
    },
    {
      "cell_type": "code",
      "source": [
        ""
      ],
      "metadata": {
        "id": "5GcB1onRrUf1"
      },
      "execution_count": null,
      "outputs": []
    }
  ]
}